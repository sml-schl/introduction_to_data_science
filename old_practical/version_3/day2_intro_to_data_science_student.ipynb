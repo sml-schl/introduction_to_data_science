{
 "cells": [
  {
   "cell_type": "markdown",
   "metadata": {},
   "source": [
    "# Day 2: Introduction to Data Science\n",
    "\n",
    "**Duration:** 90 minutes  \n",
    "**Dataset:** Titanic Passenger Data\n",
    "\n",
    "## Learning Objectives\n",
    "- Understand what data science is and its three pillars\n",
    "- Explore real-world applications of data science\n",
    "- Learn about Big Data characteristics\n",
    "- Practice effective data visualization\n",
    "- Distinguish correlation from causation\n",
    "\n",
    "---"
   ]
  },
  {
   "cell_type": "markdown",
   "metadata": {},
   "source": [
    "## Part 1: Setting Up Our Environment (10 mins)\n",
    "\n",
    "### Introduction to Python Libraries for Data Science\n",
    "\n",
    "Before we start, let's install and import the key libraries we'll use:\n",
    "\n",
    "#### **Pandas** (https://pandas.pydata.org/)\n",
    "- Used for data manipulation and analysis\n",
    "- Think of it as Excel on steroids!\n",
    "- Alternatives: Polars, Dask\n",
    "\n",
    "#### **NumPy** (https://numpy.org/)\n",
    "- Fundamental package for numerical computing\n",
    "- Provides powerful array operations\n",
    "- Alternatives: JAX (for advanced users)\n",
    "\n",
    "#### **Plotly** (https://plotly.com/python/)\n",
    "- Interactive visualization library\n",
    "- Creates beautiful, interactive charts\n",
    "- Alternatives: Matplotlib, Seaborn, Altair"
   ]
  },
  {
   "cell_type": "code",
   "execution_count": null,
   "metadata": {},
   "outputs": [],
   "source": [
    "# Install required packages (run only once)\n",
    "# Uncomment the line below if you need to install packages\n",
    "# !pip install pandas numpy plotly seaborn\n",
    "\n",
    "# Import libraries\n",
    "import pandas as pd\n",
    "import numpy as np\n",
    "import plotly.express as px\n",
    "import plotly.graph_objects as go\n",
    "from plotly.subplots import make_subplots\n",
    "\n",
    "print(\"✓ Libraries imported successfully!\")"
   ]
  },
  {
   "cell_type": "markdown",
   "metadata": {},
   "source": [
    "### Load the Titanic Dataset\n",
    "\n",
    "The Titanic dataset contains information about passengers aboard the RMS Titanic. We'll use this throughout the course to learn data science concepts.\n",
    "\n",
    "**Dataset Features:**\n",
    "- PassengerId: Unique identifier\n",
    "- Survived: Survival (0 = No, 1 = Yes)\n",
    "- Pclass: Ticket class (1 = 1st, 2 = 2nd, 3 = 3rd)\n",
    "- Name: Passenger name\n",
    "- Sex: Gender\n",
    "- Age: Age in years\n",
    "- SibSp: Number of siblings/spouses aboard\n",
    "- Parch: Number of parents/children aboard\n",
    "- Ticket: Ticket number\n",
    "- Fare: Passenger fare\n",
    "- Cabin: Cabin number\n",
    "- Embarked: Port of embarkation (C = Cherbourg, Q = Queenstown, S = Southampton)"
   ]
  },
  {
   "cell_type": "code",
   "execution_count": null,
   "metadata": {},
   "outputs": [],
   "source": [
    "# Load the Titanic dataset from seaborn's built-in datasets\n",
    "import seaborn as sns\n",
    "df = sns.load_dataset('titanic')\n",
    "\n",
    "# Display first few rows\n",
    "print(\"First 5 rows of the Titanic dataset:\")\n",
    "df.head()"
   ]
  },
  {
   "cell_type": "code",
   "execution_count": null,
   "metadata": {},
   "outputs": [],
   "source": [
    "# Get basic information about the dataset\n",
    "print(\"Dataset shape (rows, columns):\", df.shape)\n",
    "print(\"\\nColumn data types:\")\n",
    "df.info()"
   ]
  },
  {
   "cell_type": "markdown",
   "metadata": {},
   "source": [
    "---\n",
    "## Part 2: Understanding Data Science (15 mins)\n",
    "\n",
    "### Exercise 2.1: Identifying the Three Pillars\n",
    "\n",
    "Data Science sits at the intersection of three domains:\n",
    "1. **Domain Expertise** - Understanding the problem context\n",
    "2. **Statistics/Mathematics** - Analyzing and interpreting data\n",
    "3. **Computer Science** - Programming and computational thinking\n",
    "\n",
    "**Task:** For the Titanic dataset, write down one example for each pillar:\n",
    "- Domain Expertise: ___________________________________\n",
    "- Statistics: ___________________________________\n",
    "- Computer Science: ___________________________________"
   ]
  },
  {
   "cell_type": "markdown",
   "metadata": {},
   "source": [
    "### Exercise 2.2: Big Data Characteristics (The 5 V's)\n",
    "\n",
    "Let's analyze our dataset using the Big Data framework:\n",
    "\n",
    "**The 5 V's:**\n",
    "- **Volume:** How much data?\n",
    "- **Velocity:** How fast is data generated?\n",
    "- **Variety:** What types of data?\n",
    "- **Veracity:** How trustworthy is the data?\n",
    "- **Value:** What insights can we extract?"
   ]
  },
  {
   "cell_type": "code",
   "execution_count": null,
   "metadata": {},
   "outputs": [],
   "source": [
    "# TODO: Calculate the volume of our dataset\n",
    "# Hint: Use df.shape to get number of rows and columns\n",
    "num_rows = # YOUR CODE HERE\n",
    "num_cols = # YOUR CODE HERE\n",
    "\n",
    "print(f\"Volume: {num_rows} rows × {num_cols} columns = {num_rows * num_cols} data points\")"
   ]
  },
  {
   "cell_type": "code",
   "execution_count": null,
   "metadata": {},
   "outputs": [],
   "source": [
    "# TODO: Identify the variety in our dataset\n",
    "# Hint: Use df.dtypes to see different data types\n",
    "print(\"Data types in our dataset:\")\n",
    "# YOUR CODE HERE"
   ]
  },
  {
   "cell_type": "markdown",
   "metadata": {},
   "source": [
    "---\n",
    "## Part 3: Data Visualization & Storytelling (35 mins)\n",
    "\n",
    "### Exercise 3.1: Creating Your First Visualizations\n",
    "\n",
    "Good visualizations tell a story. Let's explore the Titanic data visually!"
   ]
  },
  {
   "cell_type": "code",
   "execution_count": null,
   "metadata": {},
   "outputs": [],
   "source": [
    "# TODO: Create a bar chart showing survival counts\n",
    "# Hint: Use px.histogram() with x='survived'\n",
    "\n",
    "fig = # YOUR CODE HERE\n",
    "fig.update_layout(title='Survival Distribution on the Titanic',\n",
    "                  xaxis_title='Survived (0=No, 1=Yes)',\n",
    "                  yaxis_title='Number of Passengers')\n",
    "fig.show()"
   ]
  },
  {
   "cell_type": "markdown",
   "metadata": {},
   "source": [
    "**Question:** What story does this chart tell? ___________________________________"
   ]
  },
  {
   "cell_type": "code",
   "execution_count": null,
   "metadata": {},
   "outputs": [],
   "source": [
    "# TODO: Create a visualization comparing survival rates by passenger class\n",
    "# Hint: Use px.histogram() with x='pclass' and color='survived'\n",
    "\n",
    "fig = # YOUR CODE HERE\n",
    "fig.update_layout(title='Survival by Passenger Class',\n",
    "                  xaxis_title='Passenger Class',\n",
    "                  yaxis_title='Count',\n",
    "                  barmode='group')\n",
    "fig.show()"
   ]
  },
  {
   "cell_type": "markdown",
   "metadata": {},
   "source": [
    "**Question:** Which passenger class had the highest survival rate? Why might this be? \n",
    "\n",
    "Your answer: ___________________________________"
   ]
  },
  {
   "cell_type": "markdown",
   "metadata": {},
   "source": [
    "### Exercise 3.2: Age Distribution\n",
    "\n",
    "Let's explore the age distribution of passengers using a histogram."
   ]
  },
  {
   "cell_type": "code",
   "execution_count": null,
   "metadata": {},
   "outputs": [],
   "source": [
    "# TODO: Create a histogram of passenger ages\n",
    "# Hint: Use px.histogram() with x='age' and nbins=30\n",
    "\n",
    "fig = # YOUR CODE HERE\n",
    "fig.update_layout(title='Age Distribution of Titanic Passengers',\n",
    "                  xaxis_title='Age (years)',\n",
    "                  yaxis_title='Number of Passengers')\n",
    "fig.show()"
   ]
  },
  {
   "cell_type": "markdown",
   "metadata": {},
   "source": [
    "### Exercise 3.3: Multiple Variables - Gender, Class, and Survival"
   ]
  },
  {
   "cell_type": "code",
   "execution_count": null,
   "metadata": {},
   "outputs": [],
   "source": [
    "# TODO: Create a grouped bar chart showing survival by sex and class\n",
    "# Hint: Group the data first, then create a bar chart\n",
    "\n",
    "survival_by_sex_class = df.groupby(['sex', 'pclass'])['survived'].mean().reset_index()\n",
    "\n",
    "fig = px.bar(survival_by_sex_class, \n",
    "             x='pclass', \n",
    "             y='survived', \n",
    "             color='sex',\n",
    "             barmode='group',\n",
    "             title='Survival Rate by Gender and Passenger Class',\n",
    "             labels={'survived': 'Survival Rate', 'pclass': 'Passenger Class'})\n",
    "fig.show()"
   ]
  },
  {
   "cell_type": "markdown",
   "metadata": {},
   "source": [
    "**Question:** What patterns do you observe? ___________________________________"
   ]
  },
  {
   "cell_type": "markdown",
   "metadata": {},
   "source": [
    "### Exercise 3.4: Scatter Plot - Fare vs Age"
   ]
  },
  {
   "cell_type": "code",
   "execution_count": null,
   "metadata": {},
   "outputs": [],
   "source": [
    "# TODO: Create a scatter plot of Age vs Fare, colored by survival\n",
    "# Hint: Use px.scatter() with x='age', y='fare', color='survived'\n",
    "\n",
    "fig = # YOUR CODE HERE\n",
    "fig.update_layout(title='Relationship between Age and Fare',\n",
    "                  xaxis_title='Age (years)',\n",
    "                  yaxis_title='Fare (£)')\n",
    "fig.show()"
   ]
  },
  {
   "cell_type": "markdown",
   "metadata": {},
   "source": [
    "---\n",
    "## Part 4: Correlation vs Causation (20 mins)\n",
    "\n",
    "### Exercise 4.1: Computing Correlations\n",
    "\n",
    "**Important:** Correlation measures how two variables move together, but it does NOT mean one causes the other!"
   ]
  },
  {
   "cell_type": "code",
   "execution_count": null,
   "metadata": {},
   "outputs": [],
   "source": [
    "# TODO: Calculate correlation between numerical variables\n",
    "# Hint: Use df.select_dtypes(include=[np.number]).corr()\n",
    "\n",
    "correlation_matrix = # YOUR CODE HERE\n",
    "print(\"Correlation Matrix:\")\n",
    "print(correlation_matrix)"
   ]
  },
  {
   "cell_type": "code",
   "execution_count": null,
   "metadata": {},
   "outputs": [],
   "source": [
    "# TODO: Create a heatmap of correlations\n",
    "# Hint: Use px.imshow()\n",
    "\n",
    "fig = px.imshow(correlation_matrix,\n",
    "                text_auto='.2f',\n",
    "                aspect='auto',\n",
    "                title='Correlation Heatmap',\n",
    "                color_continuous_scale='RdBu_r')\n",
    "fig.show()"
   ]
  },
  {
   "cell_type": "markdown",
   "metadata": {},
   "source": [
    "### Exercise 4.2: Understanding Correlation vs Causation\n",
    "\n",
    "Look at the correlation between `fare` and `survived`."
   ]
  },
  {
   "cell_type": "code",
   "execution_count": null,
   "metadata": {},
   "outputs": [],
   "source": [
    "# TODO: Calculate the correlation between fare and survival\n",
    "fare_survival_corr = # YOUR CODE HERE\n",
    "print(f\"Correlation between Fare and Survival: {fare_survival_corr:.3f}\")"
   ]
  },
  {
   "cell_type": "markdown",
   "metadata": {},
   "source": [
    "**Discussion Questions:**\n",
    "\n",
    "1. Does higher fare CAUSE better survival? ___________________________________\n",
    "2. What might be the real reason for this relationship? (Hint: Think about passenger class) ___________________________________\n",
    "3. Can you think of a confounding variable? ___________________________________"
   ]
  },
  {
   "cell_type": "markdown",
   "metadata": {},
   "source": [
    "---\n",
    "## Part 5: Recognizing Poor Visualizations (10 mins)\n",
    "\n",
    "### Exercise 5.1: Creating a Misleading Visualization\n",
    "\n",
    "Let's intentionally create a poor visualization to understand what NOT to do!"
   ]
  },
  {
   "cell_type": "code",
   "execution_count": null,
   "metadata": {},
   "outputs": [],
   "source": [
    "# Poor visualization example: Pie chart with too many categories\n",
    "age_groups = pd.cut(df['age'].dropna(), bins=20)\n",
    "fig = px.pie(values=age_groups.value_counts().values, \n",
    "             names=age_groups.value_counts().index.astype(str),\n",
    "             title='Age Distribution (Poor Visualization - Too Many Slices!)')\n",
    "fig.show()"
   ]
  },
  {
   "cell_type": "markdown",
   "metadata": {},
   "source": [
    "**Question:** What makes this visualization poor? List at least 2 reasons:\n",
    "\n",
    "1. ___________________________________\n",
    "2. ___________________________________"
   ]
  },
  {
   "cell_type": "code",
   "execution_count": null,
   "metadata": {},
   "outputs": [],
   "source": [
    "# TODO: Create a BETTER version of the above visualization\n",
    "# Hint: Use a histogram instead of a pie chart\n",
    "\n",
    "# YOUR CODE HERE"
   ]
  },
  {
   "cell_type": "markdown",
   "metadata": {},
   "source": [
    "---\n",
    "## Part 6: Summary & Reflection (10 mins)\n",
    "\n",
    "### Key Takeaways\n",
    "\n",
    "Today we learned:\n",
    "- ✓ Data science combines domain expertise, statistics, and computer science\n",
    "- ✓ The 5 V's of Big Data: Volume, Velocity, Variety, Veracity, Value\n",
    "- ✓ Different visualization types serve different purposes\n",
    "- ✓ Correlation ≠ Causation!\n",
    "- ✓ Good visualizations tell clear stories without misleading\n",
    "\n",
    "### Reflection Questions\n",
    "\n",
    "1. What was the most interesting insight you discovered about the Titanic data?\n",
    "\n",
    "   Your answer: ___________________________________\n",
    "\n",
    "2. Which type of visualization did you find most useful and why?\n",
    "\n",
    "   Your answer: ___________________________________\n",
    "\n",
    "3. Can you think of a real-world application where these data science skills would be valuable?\n",
    "\n",
    "   Your answer: ___________________________________"
   ]
  },
  {
   "cell_type": "markdown",
   "metadata": {},
   "source": [
    "---\n",
    "## Bonus Challenges (Optional)\n",
    "\n",
    "If you finish early, try these additional exercises:\n",
    "\n",
    "### Bonus 1: Box Plot for Fare by Class"
   ]
  },
  {
   "cell_type": "code",
   "execution_count": null,
   "metadata": {},
   "outputs": [],
   "source": [
    "# TODO: Create a box plot showing fare distribution by passenger class\n",
    "# Hint: Use px.box()\n",
    "\n",
    "# YOUR CODE HERE"
   ]
  },
  {
   "cell_type": "markdown",
   "metadata": {},
   "source": [
    "### Bonus 2: Survival Rate by Embarkation Port"
   ]
  },
  {
   "cell_type": "code",
   "execution_count": null,
   "metadata": {},
   "outputs": [],
   "source": [
    "# TODO: Calculate and visualize survival rates by embarkation port\n",
    "# Hint: Group by 'embarked' and calculate mean of 'survived'\n",
    "\n",
    "# YOUR CODE HERE"
   ]
  },
  {
   "cell_type": "markdown",
   "metadata": {},
   "source": [
    "### Bonus 3: Family Size Analysis"
   ]
  },
  {
   "cell_type": "code",
   "execution_count": null,
   "metadata": {},
   "outputs": [],
   "source": [
    "# TODO: Create a new feature 'family_size' = SibSp + Parch + 1\n",
    "# Then visualize survival rate by family size\n",
    "\n",
    "# YOUR CODE HERE"
   ]
  },
  {
   "cell_type": "markdown",
   "metadata": {},
   "source": [
    "---\n",
    "## Resources for Further Learning\n",
    "\n",
    "- **Pandas Documentation:** https://pandas.pydata.org/docs/\n",
    "- **Plotly Gallery:** https://plotly.com/python/\n",
    "- **Data Visualization Best Practices:** https://www.storytellingwithdata.com/\n",
    "- **Correlation vs Causation:** https://www.tylervigen.com/spurious-correlations\n",
    "\n",
    "**See you on Day 4!** 🚀"
   ]
  }
 ],
 "metadata": {
  "kernelspec": {
   "display_name": "Python 3",
   "language": "python",
   "name": "python3"
  },
  "language_info": {
   "codemirror_mode": {
    "name": "ipython",
    "version": 3
   },
   "file_extension": ".py",
   "mimetype": "text/x-python",
   "name": "python",
   "nbconvert_exporter": "python",
   "pygments_lexer": "ipython3",
   "version": "3.8.0"
  }
 },
 "nbformat": 4,
 "nbformat_minor": 4
}
