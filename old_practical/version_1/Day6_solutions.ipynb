{
 "cells": [
  {
   "cell_type": "markdown",
   "id": "98c46ef3",
   "metadata": {},
   "source": [
    "# Day 6 — Solutions Notebook\n",
    "\n",
    "*Auto-generated notebook based on provided lecture slides.*"
   ]
  },
  {
   "cell_type": "markdown",
   "id": "c2df0bc9",
   "metadata": {},
   "source": [
    "## Solutions — Day 6: Intro to ML\n",
    "Includes alternate model (Decision Tree) and explanations."
   ]
  },
  {
   "cell_type": "code",
   "execution_count": null,
   "id": "eecf010b",
   "metadata": {},
   "outputs": [],
   "source": [
    "# Setup: installs (uncomment the !pip lines if needed) and imports\n",
    "# If running in a managed environment (e.g. Google Colab), uncomment the pip installs below.\n",
    "# !pip install pandas numpy seaborn plotly scikit-learn matplotlib\n",
    "\n",
    "import pandas as pd, numpy as np\n",
    "import seaborn as sns\n",
    "import matplotlib.pyplot as plt\n",
    "import plotly.express as px\n",
    "from sklearn.model_selection import train_test_split\n",
    "from sklearn.preprocessing import StandardScaler, MinMaxScaler, OneHotEncoder\n",
    "from sklearn.impute import SimpleImputer\n",
    "from sklearn.linear_model import LogisticRegression\n",
    "from sklearn.neighbors import KNeighborsClassifier\n",
    "from sklearn.tree import DecisionTreeClassifier\n",
    "from sklearn.metrics import accuracy_score, precision_score, recall_score, f1_score, confusion_matrix, roc_auc_score, roc_curve\n",
    "sns.set_theme(style='whitegrid')\n",
    "\n",
    "# Load dataset (seaborn's titanic dataset) - we'll use this across all notebooks\n",
    "df = sns.load_dataset('titanic')\n",
    "df_original = df.copy()  # keep a pristine copy\n",
    "print('Loaded titanic dataset with shape:', df.shape)\n",
    "df.head()\n"
   ]
  },
  {
   "cell_type": "code",
   "execution_count": null,
   "id": "86bf1023",
   "metadata": {},
   "outputs": [],
   "source": [
    "# Prepare X,y (solution)\n",
    "df_ml = df.copy()\n",
    "df_ml['age'] = df_ml['age'].fillna(df_ml['age'].median())\n",
    "df_ml['fare'] = df_ml['fare'].fillna(df_ml['fare'].median())\n",
    "df_ml = pd.get_dummies(df_ml, columns=['sex','embarked','class'], drop_first=True)\n",
    "features = ['age','fare'] + [c for c in df_ml.columns if c.startswith('sex_') or c.startswith('embarked_') or c.startswith('class_')]\n",
    "X = df_ml[features]\n",
    "y = df_ml['survived']\n",
    "X_train, X_test, y_train, y_test = train_test_split(X, y, test_size=0.2, random_state=42)\n",
    "\n",
    "# Logistic Regression\n",
    "clf = LogisticRegression(max_iter=300)\n",
    "clf.fit(X_train, y_train)\n",
    "y_pred = clf.predict(X_test)\n",
    "print('Logistic Regression Accuracy:', accuracy_score(y_test, y_pred))\n",
    "print('Confusion matrix:\\n', confusion_matrix(y_test, y_pred))\n",
    "\n",
    "# Decision Tree alternative\n",
    "dt = DecisionTreeClassifier(max_depth=4, random_state=42)\n",
    "dt.fit(X_train, y_train)\n",
    "y_pred_dt = dt.predict(X_test)\n",
    "print('\\nDecision Tree Accuracy:', accuracy_score(y_test, y_pred_dt))\n",
    "print('Confusion matrix:\\n', confusion_matrix(y_test, y_pred_dt))\n",
    "\n",
    "# Short explanation\n",
    "print('\\nNotes: Logistic regression is linear; decision tree can capture nonlinear interactions. Small dataset and limited features limit performance.')\n"
   ]
  },
  {
   "cell_type": "markdown",
   "id": "5f5ddba8",
   "metadata": {},
   "source": [
    "### Optional: two-solution approach\n",
    "- Option A: simple preprocessing + logistic regression (fast, interpretable)\n",
    "- Option B: add interaction features / use tree-based model (more flexible, less interpretable)\n"
   ]
  }
 ],
 "metadata": {},
 "nbformat": 4,
 "nbformat_minor": 5
}
