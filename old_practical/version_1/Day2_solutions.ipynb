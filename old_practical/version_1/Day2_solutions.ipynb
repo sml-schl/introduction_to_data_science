{
 "cells": [
  {
   "cell_type": "markdown",
   "id": "3bd8a5cc",
   "metadata": {},
   "source": [
    "# Day 2 — Solutions Notebook\n",
    "\n",
    "*Auto-generated notebook based on provided lecture slides.*"
   ]
  },
  {
   "cell_type": "markdown",
   "id": "b9d620b4",
   "metadata": {},
   "source": [
    "## Solutions — Day 2: Introduction & Visualization\n",
    "This notebook contains worked solutions and short explanations."
   ]
  },
  {
   "cell_type": "code",
   "execution_count": null,
   "id": "223e6b49",
   "metadata": {},
   "outputs": [],
   "source": [
    "# Setup: installs (uncomment the !pip lines if needed) and imports\n",
    "# If running in a managed environment (e.g. Google Colab), uncomment the pip installs below.\n",
    "# !pip install pandas numpy seaborn plotly scikit-learn matplotlib\n",
    "\n",
    "import pandas as pd, numpy as np\n",
    "import seaborn as sns\n",
    "import matplotlib.pyplot as plt\n",
    "import plotly.express as px\n",
    "from sklearn.model_selection import train_test_split\n",
    "from sklearn.preprocessing import StandardScaler, MinMaxScaler, OneHotEncoder\n",
    "from sklearn.impute import SimpleImputer\n",
    "from sklearn.linear_model import LogisticRegression\n",
    "from sklearn.neighbors import KNeighborsClassifier\n",
    "from sklearn.tree import DecisionTreeClassifier\n",
    "from sklearn.metrics import accuracy_score, precision_score, recall_score, f1_score, confusion_matrix, roc_auc_score, roc_curve\n",
    "sns.set_theme(style='whitegrid')\n",
    "\n",
    "# Load dataset (seaborn's titanic dataset) - we'll use this across all notebooks\n",
    "df = sns.load_dataset('titanic')\n",
    "df_original = df.copy()  # keep a pristine copy\n",
    "print('Loaded titanic dataset with shape:', df.shape)\n",
    "df.head()\n"
   ]
  },
  {
   "cell_type": "markdown",
   "id": "f8e6e7bf",
   "metadata": {},
   "source": [
    "### Exploration (solution)"
   ]
  },
  {
   "cell_type": "code",
   "execution_count": null,
   "id": "ba3f54eb",
   "metadata": {},
   "outputs": [],
   "source": [
    "print(df.info())\n",
    "print('\\nNumeric summary:')\n",
    "print(df.describe(include='all'))\n",
    "print('\\nMissing values per column:')\n",
    "print(df.isna().sum())\n"
   ]
  },
  {
   "cell_type": "markdown",
   "id": "9d1c6a2c",
   "metadata": {},
   "source": [
    "### Visualizations (solutions with alternatives)"
   ]
  },
  {
   "cell_type": "code",
   "execution_count": null,
   "id": "95a423ab",
   "metadata": {},
   "outputs": [],
   "source": [
    "# Survival rate per class (solution)\n",
    "surv_by_class = df.groupby('class', observed=True)['survived'].mean().reset_index()\n",
    "surv_by_class['survived_pct'] = surv_by_class['survived']*100\n",
    "print(surv_by_class)\n",
    "fig = px.bar(surv_by_class, x='class', y='survived_pct', title='Survival rate per class (percent)')\n",
    "fig.update_yaxes(title='Survival rate (%)')\n",
    "fig.show()\n",
    "\n",
    "# Alternative: stacked bar with counts\n",
    "counts = df.groupby(['class','survived']).size().reset_index(name='count')\n",
    "fig = px.bar(counts, x='class', y='count', color='survived', barmode='stack', title='Counts: survived vs not')\n",
    "fig.show()\n",
    "\n",
    "# Example of misleading visualization (demonstration)\n",
    "# Create a truncated y-axis to show how it can be misleading\n",
    "import plotly.graph_objects as go\n",
    "fig = go.Figure(go.Bar(x=['A','B','C'], y=[10,11,12]))\n",
    "fig.update_layout(title='Truncated y-axis example (misleading)')\n",
    "fig.update_yaxes(range=[9.5,12])\n",
    "fig.show()\n",
    "\n",
    "# Explain: truncating the y-axis makes small differences look large."
   ]
  },
  {
   "cell_type": "markdown",
   "id": "3924e230",
   "metadata": {},
   "source": [
    "### Notes for instructors\n",
    "- Emphasise labeling axes, titles, and choosing appropriate charts.\n",
    "- For beginners, stick to bar/hist/box/scatter; avoid 3D charts."
   ]
  }
 ],
 "metadata": {},
 "nbformat": 4,
 "nbformat_minor": 5
}
