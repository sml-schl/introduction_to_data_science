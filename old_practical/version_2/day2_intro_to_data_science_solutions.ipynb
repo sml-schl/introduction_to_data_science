{
 "cells": [
  {
   "cell_type": "markdown",
   "metadata": {},
   "source": [
    "# Day 2: Introduction to Data Science - SOLUTIONS\n",
    "\n",
    "**Duration:** 90 minutes  \n",
    "**Dataset:** Titanic Passenger Data\n",
    "\n",
    "---"
   ]
  },
  {
   "cell_type": "markdown",
   "metadata": {},
   "source": [
    "## Part 1: Setting Up Our Environment"
   ]
  },
  {
   "cell_type": "code",
   "execution_count": null,
   "metadata": {},
   "outputs": [],
   "source": [
    "# Import libraries\n",
    "import pandas as pd\n",
    "import numpy as np\n",
    "import plotly.express as px\n",
    "import plotly.graph_objects as go\n",
    "from plotly.subplots import make_subplots\n",
    "import seaborn as sns\n",
    "\n",
    "print(\"✓ Libraries imported successfully!\")"
   ]
  },
  {
   "cell_type": "code",
   "execution_count": null,
   "metadata": {},
   "outputs": [],
   "source": [
    "# Load the Titanic dataset\n",
    "df = sns.load_dataset('titanic')\n",
    "\n",
    "print(\"First 5 rows of the Titanic dataset:\")\n",
    "df.head()"
   ]
  },
  {
   "cell_type": "code",
   "execution_count": null,
   "metadata": {},
   "outputs": [],
   "source": [
    "# Get basic information\n",
    "print(\"Dataset shape (rows, columns):\", df.shape)\n",
    "print(\"\\nColumn data types:\")\n",
    "df.info()"
   ]
  },
  {
   "cell_type": "markdown",
   "metadata": {},
   "source": [
    "---\n",
    "## Part 2: Understanding Data Science\n",
    "\n",
    "### Exercise 2.1: Identifying the Three Pillars - SOLUTION\n",
    "\n",
    "**Examples for Titanic dataset:**\n",
    "- **Domain Expertise:** Understanding maritime history, social class structure in 1912, lifeboat protocols\n",
    "- **Statistics/Mathematics:** Calculating survival rates, correlations between variables, probability distributions\n",
    "- **Computer Science:** Data loading, manipulation with pandas, creating visualizations, writing efficient code"
   ]
  },
  {
   "cell_type": "markdown",
   "metadata": {},
   "source": [
    "### Exercise 2.2: Big Data Characteristics - SOLUTION"
   ]
  },
  {
   "cell_type": "code",
   "execution_count": null,
   "metadata": {},
   "outputs": [],
   "source": [
    "# SOLUTION: Calculate the volume of our dataset\n",
    "num_rows = df.shape[0]\n",
    "num_cols = df.shape[1]\n",
    "\n",
    "print(f\"Volume: {num_rows} rows × {num_cols} columns = {num_rows * num_cols} data points\")\n",
    "print(f\"\\nInterpretation: This is a small dataset ({num_rows} passengers), not 'Big Data' by modern standards.\")\n",
    "print(\"But it's perfect for learning!\")"
   ]
  },
  {
   "cell_type": "code",
   "execution_count": null,
   "metadata": {},
   "outputs": [],
   "source": [
    "# SOLUTION: Identify the variety in our dataset\n",
    "print(\"Data types in our dataset:\")\n",
    "print(df.dtypes)\n",
    "print(\"\\n\" + \"=\"*50)\n",
    "print(\"Variety Analysis:\")\n",
    "print(f\"- Numerical: {df.select_dtypes(include=[np.number]).columns.tolist()}\")\n",
    "print(f\"- Categorical: {df.select_dtypes(include=['object', 'category']).columns.tolist()}\")\n",
    "print(\"\\nWe have STRUCTURED data with both numerical and categorical variables.\")"
   ]
  },
  {
   "cell_type": "markdown",
   "metadata": {},
   "source": [
    "**The 5 V's for Titanic Dataset:**\n",
    "- **Volume:** ~891 passengers (small dataset)\n",
    "- **Velocity:** Static/historical data (collected once, over 100 years ago)\n",
    "- **Variety:** Structured data with numerical + categorical features\n",
    "- **Veracity:** High trustworthiness (historical records), but some missing values\n",
    "- **Value:** High value for understanding survival patterns and social dynamics"
   ]
  },
  {
   "cell_type": "markdown",
   "metadata": {},
   "source": [
    "---\n",
    "## Part 3: Data Visualization & Storytelling"
   ]
  },
  {
   "cell_type": "code",
   "execution_count": null,
   "metadata": {},
   "outputs": [],
   "source": [
    "# SOLUTION: Bar chart showing survival counts\n",
    "fig = px.histogram(df, x='survived', \n",
    "                   color='survived',\n",
    "                   labels={'survived': 'Survived (0=No, 1=Yes)'},\n",
    "                   category_orders={'survived': [0, 1]})\n",
    "fig.update_layout(title='Survival Distribution on the Titanic',\n",
    "                  xaxis_title='Survived (0=No, 1=Yes)',\n",
    "                  yaxis_title='Number of Passengers',\n",
    "                  showlegend=False)\n",
    "fig.show()\n",
    "\n",
    "# Calculate exact numbers\n",
    "survival_counts = df['survived'].value_counts()\n",
    "print(f\"\\nDied: {survival_counts[0]} passengers\")\n",
    "print(f\"Survived: {survival_counts[1]} passengers\")\n",
    "print(f\"Survival Rate: {survival_counts[1]/len(df)*100:.1f}%\")"
   ]
  },
  {
   "cell_type": "markdown",
   "metadata": {},
   "source": [
    "**Story:** Tragically, more passengers died than survived. Only about 38% survived the disaster."
   ]
  },
  {
   "cell_type": "code",
   "execution_count": null,
   "metadata": {},
   "outputs": [],
   "source": [
    "# SOLUTION: Survival rates by passenger class\n",
    "fig = px.histogram(df, x='pclass', color='survived',\n",
    "                   barmode='group',\n",
    "                   labels={'pclass': 'Passenger Class', 'survived': 'Survived'},\n",
    "                   category_orders={'survived': [0, 1]})\n",
    "fig.update_layout(title='Survival by Passenger Class',\n",
    "                  xaxis_title='Passenger Class (1=1st, 2=2nd, 3=3rd)',\n",
    "                  yaxis_title='Count')\n",
    "fig.show()\n",
    "\n",
    "# Calculate survival rates by class\n",
    "print(\"\\nSurvival rates by class:\")\n",
    "for pclass in sorted(df['pclass'].unique()):\n",
    "    rate = df[df['pclass']==pclass]['survived'].mean()\n",
    "    print(f\"Class {pclass}: {rate*100:.1f}%\")"
   ]
  },
  {
   "cell_type": "markdown",
   "metadata": {},
   "source": [
    "**Answer:** 1st class had the highest survival rate (~63%). This reflects the \"women and children first\" protocol being applied more effectively in upper-class areas, and better access to lifeboats."
   ]
  },
  {
   "cell_type": "markdown",
   "metadata": {},
   "source": [
    "### Exercise 3.2: Age Distribution - SOLUTION"
   ]
  },
  {
   "cell_type": "code",
   "execution_count": null,
   "metadata": {},
   "outputs": [],
   "source": [
    "# SOLUTION: Histogram of passenger ages\n",
    "fig = px.histogram(df, x='age', nbins=30, \n",
    "                   marginal='box',  # Add a box plot on top\n",
    "                   color_discrete_sequence=['steelblue'])\n",
    "fig.update_layout(title='Age Distribution of Titanic Passengers',\n",
    "                  xaxis_title='Age (years)',\n",
    "                  yaxis_title='Number of Passengers')\n",
    "fig.show()\n",
    "\n",
    "print(f\"\\nAge Statistics:\")\n",
    "print(f\"Mean age: {df['age'].mean():.1f} years\")\n",
    "print(f\"Median age: {df['age'].median():.1f} years\")\n",
    "print(f\"Youngest: {df['age'].min():.1f} years\")\n",
    "print(f\"Oldest: {df['age'].max():.1f} years\")"
   ]
  },
  {
   "cell_type": "markdown",
   "metadata": {},
   "source": [
    "### Exercise 3.3: Multiple Variables - SOLUTION"
   ]
  },
  {
   "cell_type": "code",
   "execution_count": null,
   "metadata": {},
   "outputs": [],
   "source": [
    "# SOLUTION: Survival by sex and class\n",
    "survival_by_sex_class = df.groupby(['sex', 'pclass'])['survived'].mean().reset_index()\n",
    "\n",
    "fig = px.bar(survival_by_sex_class, \n",
    "             x='pclass', \n",
    "             y='survived', \n",
    "             color='sex',\n",
    "             barmode='group',\n",
    "             title='Survival Rate by Gender and Passenger Class',\n",
    "             labels={'survived': 'Survival Rate', 'pclass': 'Passenger Class'})\n",
    "fig.update_layout(yaxis_tickformat='.0%')\n",
    "fig.show()\n",
    "\n",
    "print(\"\\nSurvival rates by gender and class:\")\n",
    "print(survival_by_sex_class.pivot(index='pclass', columns='sex', values='survived'))"
   ]
  },
  {
   "cell_type": "markdown",
   "metadata": {},
   "source": [
    "**Patterns observed:**\n",
    "- Women had much higher survival rates than men across all classes\n",
    "- 1st class women had the highest survival rate (~96%)\n",
    "- 3rd class men had the lowest survival rate (~14%)\n",
    "- The \"women and children first\" protocol is clearly visible\n",
    "- Social class AND gender both mattered for survival"
   ]
  },
  {
   "cell_type": "markdown",
   "metadata": {},
   "source": [
    "### Exercise 3.4: Scatter Plot - SOLUTION"
   ]
  },
  {
   "cell_type": "code",
   "execution_count": null,
   "metadata": {},
   "outputs": [],
   "source": [
    "# SOLUTION: Scatter plot of Age vs Fare\n",
    "fig = px.scatter(df, x='age', y='fare', color='survived',\n",
    "                 hover_data=['pclass', 'sex'],\n",
    "                 labels={'survived': 'Survived'},\n",
    "                 opacity=0.6)\n",
    "fig.update_layout(title='Relationship between Age and Fare',\n",
    "                  xaxis_title='Age (years)',\n",
    "                  yaxis_title='Fare (£)')\n",
    "fig.show()\n",
    "\n",
    "print(\"\\nInsights:\")\n",
    "print(\"- Higher fares generally correlate with better survival\")\n",
    "print(\"- Some outliers with very high fares\")\n",
    "print(\"- Age alone doesn't show a strong pattern\")"
   ]
  },
  {
   "cell_type": "markdown",
   "metadata": {},
   "source": [
    "---\n",
    "## Part 4: Correlation vs Causation"
   ]
  },
  {
   "cell_type": "code",
   "execution_count": null,
   "metadata": {},
   "outputs": [],
   "source": [
    "# SOLUTION: Calculate correlation matrix\n",
    "correlation_matrix = df.select_dtypes(include=[np.number]).corr()\n",
    "print(\"Correlation Matrix:\")\n",
    "print(correlation_matrix.round(3))"
   ]
  },
  {
   "cell_type": "code",
   "execution_count": null,
   "metadata": {},
   "outputs": [],
   "source": [
    "# SOLUTION: Create heatmap\n",
    "fig = px.imshow(correlation_matrix,\n",
    "                text_auto='.2f',\n",
    "                aspect='auto',\n",
    "                title='Correlation Heatmap',\n",
    "                color_continuous_scale='RdBu_r',\n",
    "                zmin=-1, zmax=1)\n",
    "fig.update_layout(width=800, height=700)\n",
    "fig.show()"
   ]
  },
  {
   "cell_type": "markdown",
   "metadata": {},
   "source": [
    "### Exercise 4.2: Correlation vs Causation - SOLUTION"
   ]
  },
  {
   "cell_type": "code",
   "execution_count": null,
   "metadata": {},
   "outputs": [],
   "source": [
    "# SOLUTION: Correlation between fare and survival\n",
    "fare_survival_corr = df['fare'].corr(df['survived'])\n",
    "print(f\"Correlation between Fare and Survival: {fare_survival_corr:.3f}\")\n",
    "\n",
    "# Additional analysis\n",
    "pclass_survival_corr = df['pclass'].corr(df['survived'])\n",
    "print(f\"Correlation between Passenger Class and Survival: {pclass_survival_corr:.3f}\")\n",
    "print(f\"\\nNote: Negative correlation for pclass means lower class numbers (1st class) → higher survival\")"
   ]
  },
  {
   "cell_type": "markdown",
   "metadata": {},
   "source": [
    "**Discussion Answers:**\n",
    "\n",
    "1. **Does higher fare CAUSE better survival?** \n",
    "   No! Paying more money doesn't physically improve your chances of survival.\n",
    "\n",
    "2. **What might be the real reason?** \n",
    "   Higher fares indicate higher passenger class (1st class). First class passengers had:\n",
    "   - Cabins closer to the deck\n",
    "   - Better access to lifeboats\n",
    "   - More crew assistance\n",
    "   - Priority in evacuation\n",
    "\n",
    "3. **Confounding variable:** \n",
    "   **Passenger Class (pclass)** is the confounding variable. It influences both fare (1st class = expensive) and survival (1st class = better access to lifeboats)."
   ]
  },
  {
   "cell_type": "code",
   "execution_count": null,
   "metadata": {},
   "outputs": [],
   "source": [
    "# Visualizing the confounding relationship\n",
    "fig = px.scatter(df, x='fare', y='survived', color='pclass',\n",
    "                 trendline='ols',\n",
    "                 title='Fare vs Survival: Passenger Class as Confounding Variable',\n",
    "                 labels={'pclass': 'Passenger Class'})\n",
    "fig.update_layout(xaxis_title='Fare (£)', yaxis_title='Survived (0=No, 1=Yes)')\n",
    "fig.show()"
   ]
  },
  {
   "cell_type": "markdown",
   "metadata": {},
   "source": [
    "---\n",
    "## Part 5: Recognizing Poor Visualizations"
   ]
  },
  {
   "cell_type": "code",
   "execution_count": null,
   "metadata": {},
   "outputs": [],
   "source": [
    "# Poor visualization example\n",
    "age_groups = pd.cut(df['age'].dropna(), bins=20)\n",
    "fig = px.pie(values=age_groups.value_counts().values, \n",
    "             names=age_groups.value_counts().index.astype(str),\n",
    "             title='Age Distribution (Poor Visualization - Too Many Slices!)')\n",
    "fig.show()"
   ]
  },
  {
   "cell_type": "markdown",
   "metadata": {},
   "source": [
    "**What makes this poor:**\n",
    "1. Too many slices (20) - impossible to distinguish colors\n",
    "2. Can't easily compare sizes\n",
    "3. Labels overlap and are unreadable\n",
    "4. Pie charts are poor for showing distributions\n",
    "5. Hard to see patterns or trends"
   ]
  },
  {
   "cell_type": "code",
   "execution_count": null,
   "metadata": {},
   "outputs": [],
   "source": [
    "# SOLUTION: Better visualization\n",
    "fig = px.histogram(df, x='age', nbins=20,\n",
    "                   title='Age Distribution (Better Visualization)',\n",
    "                   labels={'age': 'Age (years)'},\n",
    "                   color_discrete_sequence=['steelblue'])\n",
    "fig.update_layout(yaxis_title='Number of Passengers',\n",
    "                  bargap=0.1)\n",
    "fig.show()\n",
    "\n",
    "print(\"\\nWhy this is better:\")\n",
    "print(\"✓ Clear x-axis shows age ranges\")\n",
    "print(\"✓ Easy to compare bar heights\")\n",
    "print(\"✓ Pattern is immediately visible (peak in 20-30 age range)\")\n",
    "print(\"✓ Professional and clean appearance\")"
   ]
  },
  {
   "cell_type": "markdown",
   "metadata": {},
   "source": [
    "---\n",
    "## Part 6: Summary & Reflection\n",
    "\n",
    "### Sample Reflection Answers\n",
    "\n",
    "1. **Most interesting insight:**\n",
    "   The stark difference between men and women's survival rates, and how this interacted with social class. The \"women and children first\" protocol was clearly followed, but your class still mattered.\n",
    "\n",
    "2. **Most useful visualization:**\n",
    "   The grouped bar chart showing survival by gender and class, because it revealed multiple relationships simultaneously and told a clear story about the disaster.\n",
    "\n",
    "3. **Real-world application:**\n",
    "   Healthcare: Analyzing patient outcomes based on treatments, demographics, and other factors while being careful about correlation vs causation (e.g., does a treatment work, or are healthier patients simply more likely to receive it?)."
   ]
  },
  {
   "cell_type": "markdown",
   "metadata": {},
   "source": [
    "---\n",
    "## Bonus Challenges - SOLUTIONS"
   ]
  },
  {
   "cell_type": "code",
   "execution_count": null,
   "metadata": {},
   "outputs": [],
   "source": [
    "# Bonus 1 SOLUTION: Box plot for fare by class\n",
    "fig = px.box(df, x='pclass', y='fare', color='pclass',\n",
    "             title='Fare Distribution by Passenger Class',\n",
    "             labels={'pclass': 'Passenger Class', 'fare': 'Fare (£)'})\n",
    "fig.update_layout(showlegend=False)\n",
    "fig.show()\n",
    "\n",
    "print(\"\\nInsights:\")\n",
    "print(\"- 1st class has highest median fare and most outliers\")\n",
    "print(\"- 3rd class has lowest and most consistent fares\")\n",
    "print(\"- Clear separation between classes\")"
   ]
  },
  {
   "cell_type": "code",
   "execution_count": null,
   "metadata": {},
   "outputs": [],
   "source": [
    "# Bonus 2 SOLUTION: Survival by embarkation port\n",
    "survival_by_port = df.groupby('embarked')['survived'].agg(['mean', 'count']).reset_index()\n",
    "survival_by_port.columns = ['embarked', 'survival_rate', 'count']\n",
    "\n",
    "fig = px.bar(survival_by_port, x='embarked', y='survival_rate',\n",
    "             text='count',\n",
    "             title='Survival Rate by Embarkation Port',\n",
    "             labels={'embarked': 'Port (C=Cherbourg, Q=Queenstown, S=Southampton)',\n",
    "                    'survival_rate': 'Survival Rate'})\n",
    "fig.update_traces(texttemplate='n=%{text}', textposition='outside')\n",
    "fig.update_layout(yaxis_tickformat='.0%')\n",
    "fig.show()\n",
    "\n",
    "print(\"\\nInterpretation:\")\n",
    "print(\"Cherbourg (C) passengers had highest survival rate.\")\n",
    "print(\"This correlates with more 1st class passengers boarding there.\")"
   ]
  },
  {
   "cell_type": "code",
   "execution_count": null,
   "metadata": {},
   "outputs": [],
   "source": [
    "# Bonus 3 SOLUTION: Family size analysis\n",
    "df['family_size'] = df['sibsp'] + df['parch'] + 1\n",
    "\n",
    "family_survival = df.groupby('family_size').agg({\n",
    "    'survived': 'mean',\n",
    "    'passenger_id': 'count'\n",
    "}).reset_index()\n",
    "family_survival.columns = ['family_size', 'survival_rate', 'count']\n",
    "\n",
    "fig = px.line(family_survival, x='family_size', y='survival_rate',\n",
    "              markers=True,\n",
    "              title='Survival Rate by Family Size',\n",
    "              labels={'family_size': 'Family Size', 'survival_rate': 'Survival Rate'})\n",
    "fig.update_layout(yaxis_tickformat='.0%')\n",
    "fig.show()\n",
    "\n",
    "print(\"\\nInsights:\")\n",
    "print(\"- Small families (2-4 people) had better survival rates\")\n",
    "print(\"- Solo travelers had moderate survival\")\n",
    "print(\"- Large families (7+) had very low survival rates\")\n",
    "print(\"- Hypothesis: Small families could coordinate evacuation, large families struggled\")"
   ]
  },
  {
   "cell_type": "markdown",
   "metadata": {},
   "source": [
    "---\n",
    "## Additional Insights\n",
    "\n",
    "### Key Statistics Summary"
   ]
  },
  {
   "cell_type": "code",
   "execution_count": null,
   "metadata": {},
   "outputs": [],
   "source": [
    "print(\"=\"*60)\n",
    "print(\"TITANIC DATASET: KEY STATISTICS\")\n",
    "print(\"=\"*60)\n",
    "print(f\"\\nTotal Passengers: {len(df)}\")\n",
    "print(f\"Survived: {df['survived'].sum()} ({df['survived'].mean()*100:.1f}%)\")\n",
    "print(f\"Died: {len(df) - df['survived'].sum()} ({(1-df['survived'].mean())*100:.1f}%)\")\n",
    "print(\"\\n\" + \"-\"*60)\n",
    "print(\"By Gender:\")\n",
    "print(df.groupby('sex')['survived'].agg(['count', 'sum', 'mean']))\n",
    "print(\"\\n\" + \"-\"*60)\n",
    "print(\"By Class:\")\n",
    "print(df.groupby('pclass')['survived'].agg(['count', 'sum', 'mean']))\n",
    "print(\"\\n\" + \"=\"*60)"
   ]
  },
  {
   "cell_type": "markdown",
   "metadata": {},
   "source": [
    "---\n",
    "**End of Day 2 Solutions**"
   ]
  }
 ],
 "metadata": {
  "kernelspec": {
   "display_name": "Python 3",
   "language": "python",
   "name": "python3"
  },
  "language_info": {
   "codemirror_mode": {
    "name": "ipython",
    "version": 3
   },
   "file_extension": ".py",
   "mimetype": "text/x-python",
   "name": "python",
   "nbconvert_exporter": "python",
   "pygments_lexer": "ipython3",
   "version": "3.8.0"
  }
 },
 "nbformat": 4,
 "nbformat_minor": 4
}
