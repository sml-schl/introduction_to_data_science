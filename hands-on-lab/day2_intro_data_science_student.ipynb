{
 "cells": [
  {
   "cell_type": "markdown",
   "id": "cell-0",
   "metadata": {},
   "source": [
    "# Day 2: Introduction to Data Science\n",
    "\n",
    "**Duration:** 90 minutes  \n",
    "**Dataset:** Titanic Passenger Data\n",
    "\n",
    "## Learning Objectives\n",
    "- Understand what data science is and its three pillars (Domänenwissen, Statistik/Mathematik, Informatik)\n",
    "- Explore real-world applications of data science (AI → Machine Learning → Deep Learning → GenAI)\n",
    "- Learn about Big Data characteristics (Volume, Velocity, Variety, Veracity, Value)\n",
    "- Identify and analyze different data sources (Open-Source, privat, kommerziell)\n",
    "- Practice effective data visualization and storytelling\n",
    "- Distinguish correlation from causation and identify confounding variables\n",
    "\n",
    "---"
   ]
  },
  {
   "cell_type": "markdown",
   "id": "cell-1",
   "metadata": {},
   "source": [
    "## Part 1: Setting Up Our Environment (10 mins)\n",
    "\n",
    "### Introduction to Python Libraries for Data Science\n",
    "\n",
    "Before we start, let's install and import the key libraries we'll use:\n",
    "\n",
    "#### **Pandas** (https://pandas.pydata.org/)\n",
    "- Used for data manipulation and analysis\n",
    "- Think of it as Excel on steroids!\n",
    "- Alternatives: Polars, Dask\n",
    "\n",
    "#### **NumPy** (https://numpy.org/)\n",
    "- Fundamental package for numerical computing\n",
    "- Provides powerful array operations\n",
    "- Alternatives: JAX (for advanced users)\n",
    "\n",
    "#### **Plotly** (https://plotly.com/python/)\n",
    "- Interactive visualization library\n",
    "- Creates beautiful, interactive charts\n",
    "- Alternatives: Matplotlib, Seaborn, Altair"
   ]
  },
  {
   "cell_type": "code",
   "execution_count": null,
   "id": "cell-2",
   "metadata": {},
   "outputs": [],
   "source": [
    "# Install required packages (run only once)\n",
    "# Uncomment the line below if you need to install packages\n",
    "# !pip install pandas numpy plotly seaborn\n",
    "\n",
    "# Import libraries\n",
    "import pandas as pd\n",
    "import numpy as np\n",
    "import plotly.express as px\n",
    "import plotly.graph_objects as go\n",
    "from plotly.subplots import make_subplots\n",
    "\n",
    "print(\"Libraries imported successfully!\")"
   ]
  },
  {
   "cell_type": "markdown",
   "id": "cell-3",
   "metadata": {},
   "source": [
    "### Load the Titanic Dataset\n",
    "\n",
    "The Titanic dataset contains information about passengers aboard the RMS Titanic. We'll use this throughout the course to learn data science concepts.\n",
    "\n",
    "**Dataset Features:**\n",
    "- PassengerId: Unique identifier\n",
    "- Survived: Survival (0 = No, 1 = Yes)\n",
    "- Pclass: Ticket class (1 = 1st, 2 = 2nd, 3 = 3rd)\n",
    "- Name: Passenger name\n",
    "- Sex: Gender\n",
    "- Age: Age in years\n",
    "- SibSp: Number of siblings/spouses aboard\n",
    "- Parch: Number of parents/children aboard\n",
    "- Ticket: Ticket number\n",
    "- Fare: Passenger fare\n",
    "- Cabin: Cabin number\n",
    "- Embarked: Port of embarkation (C = Cherbourg, Q = Queenstown, S = Southampton)"
   ]
  },
  {
   "cell_type": "code",
   "execution_count": null,
   "id": "cell-4",
   "metadata": {},
   "outputs": [],
   "source": [
    "# Load the Titanic dataset from seaborn's built-in datasets\n",
    "import seaborn as sns\n",
    "df = sns.load_dataset('titanic')\n",
    "\n",
    "# Display first few rows\n",
    "print(\"First 5 rows of the Titanic dataset:\")\n",
    "df.head()"
   ]
  },
  {
   "cell_type": "code",
   "execution_count": null,
   "id": "cell-5",
   "metadata": {},
   "outputs": [],
   "source": [
    "# Get basic information about the dataset\n",
    "print(\"Dataset shape (rows, columns):\", df.shape)\n",
    "print(\"\\nColumn data types:\")\n",
    "df.info()"
   ]
  },
  {
   "cell_type": "markdown",
   "id": "cell-6",
   "metadata": {},
   "source": [
    "---\n",
    "## Part 2: Understanding Data Science - The Three Pillars (15 mins)\n",
    "\n",
    "### What is Data Science?\n",
    "\n",
    "Data Science is an **interdisciplinary field** that sits at the intersection of three domains:\n",
    "\n",
    "### Exercise 2.1: Identifying the Three Pillars\n",
    "\n",
    "Data Science combines three essential areas:\n",
    "\n",
    "1. **Domänenwissen (Domain Expertise)** - Understanding the problem context\n",
    "   - Knowledge about the specific field or industry\n",
    "   - Business understanding\n",
    "   - Subject matter expertise\n",
    "\n",
    "2. **Statistik/Mathematik (Statistics & Mathematics)** - Analyzing and interpreting data\n",
    "   - Statistical inference\n",
    "   - Probability theory\n",
    "   - Linear algebra and calculus\n",
    "\n",
    "3. **Informatik (Computer Science)** - Programming and computational thinking\n",
    "   - Programming skills\n",
    "   - Algorithms and data structures\n",
    "   - Database management\n",
    "\n",
    "**Task:** For the Titanic dataset, write down one example for each pillar:"
   ]
  },
  {
   "cell_type": "markdown",
   "id": "cell-7",
   "metadata": {},
   "source": [
    "**Your Answers:**\n",
    "\n",
    "1. **Domänenwissen:** ___________________________________\n",
    "\n",
    "2. **Statistik/Mathematik:** ___________________________________\n",
    "\n",
    "3. **Informatik:** ___________________________________"
   ]
  },
  {
   "cell_type": "markdown",
   "id": "cell-8",
   "metadata": {},
   "source": [
    "### Exercise 2.2: AI Hierarchy - From AI to Generative AI\n",
    "\n",
    "Understanding the relationship between different AI concepts:\n",
    "\n",
    "```\n",
    "Artificial Intelligence (AI)\n",
    "    ↓\n",
    "Machine Learning (ML)\n",
    "    ↓\n",
    "Deep Learning (DL)\n",
    "    ↓\n",
    "Generative AI (GenAI) / LLMs\n",
    "```\n",
    "\n",
    "- **AI:** Broad field of making machines intelligent\n",
    "- **Machine Learning:** AI systems that learn from data\n",
    "- **Deep Learning:** ML using neural networks with many layers\n",
    "- **Generative AI/LLMs:** DL models that can generate new content\n",
    "\n",
    "**Real-World Applications:**\n",
    "- Qualitätskontrolle (Quality Control)\n",
    "- Predictive Maintenance\n",
    "- Betrugserkennung (Fraud Detection)\n",
    "- Autonomes Fahren (Autonomous Driving)\n",
    "- Empfehlungssysteme (Recommendation Systems)"
   ]
  },
  {
   "cell_type": "markdown",
   "id": "cell-9",
   "metadata": {},
   "source": [
    "**Discussion Question:** Can you think of an example for each level of the AI hierarchy?\n",
    "\n",
    "Your answers: ___________________________________"
   ]
  },
  {
   "cell_type": "markdown",
   "id": "cell-10",
   "metadata": {},
   "source": [
    "### Exercise 2.3: Big Data Characteristics - The 5 V's\n",
    "\n",
    "Big Data is characterized by five key properties:\n",
    "\n",
    "**The 5 V's:**\n",
    "- **Volume:** How much data? (Scale)\n",
    "- **Velocity:** How fast is data generated? (Speed)\n",
    "- **Variety:** What types of data? (Diversity)\n",
    "- **Veracity:** How trustworthy is the data? (Quality)\n",
    "- **Value:** What insights can we extract? (Utility)\n",
    "\n",
    "Let's analyze our Titanic dataset using this framework:"
   ]
  },
  {
   "cell_type": "code",
   "execution_count": null,
   "id": "cell-11",
   "metadata": {},
   "outputs": [],
   "source": [
    "# TODO: Calculate the volume of our dataset\n",
    "# Hint: Use df.shape to get number of rows and columns\n",
    "num_rows = # YOUR CODE HERE\n",
    "num_cols = # YOUR CODE HERE\n",
    "\n",
    "print(f\"Volume: {num_rows} rows × {num_cols} columns = {num_rows * num_cols} data points\")\n",
    "print(f\"\\nIs this 'Big Data'? What do you think?\")"
   ]
  },
  {
   "cell_type": "code",
   "execution_count": null,
   "id": "cell-12",
   "metadata": {},
   "outputs": [],
   "source": [
    "# TODO: Identify the variety in our dataset\n",
    "# Hint: Use df.dtypes to see different data types\n",
    "print(\"Data types in our dataset:\")\n",
    "# YOUR CODE HERE\n",
    "\n",
    "# Count different types\n",
    "print(\"\\nVariety Analysis:\")\n",
    "print(f\"Numerical columns: {len(df.select_dtypes(include=[np.number]).columns)}\")\n",
    "print(f\"Categorical columns: {len(df.select_dtypes(include=['object', 'category']).columns)}\")"
   ]
  },
  {
   "cell_type": "code",
   "execution_count": null,
   "id": "cell-13",
   "metadata": {},
   "outputs": [],
   "source": [
    "# TODO: Check veracity (data quality) by identifying missing values\n",
    "# Hint: Use df.isnull().sum()\n",
    "print(\"Veracity - Missing Data Analysis:\")\n",
    "missing_values = # YOUR CODE HERE\n",
    "print(missing_values[missing_values > 0])"
   ]
  },
  {
   "cell_type": "markdown",
   "id": "cell-14",
   "metadata": {},
   "source": [
    "**Reflection:** Analyze the Titanic dataset using all 5 V's:\n",
    "\n",
    "1. **Volume:** ___________________________________\n",
    "2. **Velocity:** ___________________________________\n",
    "3. **Variety:** ___________________________________\n",
    "4. **Veracity:** ___________________________________\n",
    "5. **Value:** ___________________________________"
   ]
  },
  {
   "cell_type": "markdown",
   "id": "cell-15",
   "metadata": {},
   "source": [
    "---\n",
    "## Part 3: Data Visualization & Storytelling (35 mins)\n",
    "\n",
    "### Principles of Effective Visualization\n",
    "\n",
    "Good visualizations tell a story! We can represent data using:\n",
    "- **Länge (Length)** - Bar charts\n",
    "- **Position** - Scatter plots\n",
    "- **Farbe (Color)** - Heatmaps, color-coded categories\n",
    "- **Größe (Size)** - Bubble charts\n",
    "- **Form (Shape)** - Different markers\n",
    "\n",
    "### Exercise 3.1: Creating Your First Visualizations"
   ]
  },
  {
   "cell_type": "code",
   "execution_count": null,
   "id": "cell-16",
   "metadata": {},
   "outputs": [],
   "source": [
    "# TODO: Create a bar chart showing survival counts\n",
    "# Hint: Use px.histogram() with x='survived'\n",
    "\n",
    "fig = # YOUR CODE HERE\n",
    "fig.update_layout(title='Survival Distribution on the Titanic',\n",
    "                  xaxis_title='Survived (0=No, 1=Yes)',\n",
    "                  yaxis_title='Number of Passengers')\n",
    "fig.show()"
   ]
  },
  {
   "cell_type": "markdown",
   "id": "cell-17",
   "metadata": {},
   "source": [
    "**Question:** What story does this chart tell? \n",
    "\n",
    "Your answer: ___________________________________"
   ]
  },
  {
   "cell_type": "code",
   "execution_count": null,
   "id": "cell-18",
   "metadata": {},
   "outputs": [],
   "source": [
    "# TODO: Create a visualization comparing survival rates by passenger class\n",
    "# Hint: Use px.histogram() with x='pclass' and color='survived'\n",
    "\n",
    "fig = # YOUR CODE HERE\n",
    "fig.update_layout(title='Survival by Passenger Class',\n",
    "                  xaxis_title='Passenger Class',\n",
    "                  yaxis_title='Count',\n",
    "                  barmode='group')\n",
    "fig.show()"
   ]
  },
  {
   "cell_type": "markdown",
   "id": "cell-19",
   "metadata": {},
   "source": [
    "**Question:** Which passenger class had the highest survival rate? Why might this be? \n",
    "\n",
    "Your answer: ___________________________________"
   ]
  },
  {
   "cell_type": "markdown",
   "id": "cell-20",
   "metadata": {},
   "source": [
    "### Exercise 3.2: Age Distribution"
   ]
  },
  {
   "cell_type": "code",
   "execution_count": null,
   "id": "cell-21",
   "metadata": {},
   "outputs": [],
   "source": [
    "# TODO: Create a histogram of passenger ages\n",
    "# Hint: Use px.histogram() with x='age' and nbins=30\n",
    "\n",
    "fig = # YOUR CODE HERE\n",
    "fig.update_layout(title='Age Distribution of Titanic Passengers',\n",
    "                  xaxis_title='Age (years)',\n",
    "                  yaxis_title='Number of Passengers')\n",
    "fig.show()"
   ]
  },
  {
   "cell_type": "markdown",
   "id": "cell-22",
   "metadata": {},
   "source": [
    "### Exercise 3.3: Multiple Variables - Gender, Class, and Survival"
   ]
  },
  {
   "cell_type": "code",
   "execution_count": null,
   "id": "cell-23",
   "metadata": {},
   "outputs": [],
   "source": [
    "# TODO: Create a grouped bar chart showing survival by sex and class\n",
    "# Hint: First group the data, then create a bar chart\n",
    "\n",
    "survival_by_sex_class = df.groupby(['sex', 'pclass'])['survived'].mean().reset_index()\n",
    "\n",
    "fig = px.bar(survival_by_sex_class, \n",
    "             x='pclass', \n",
    "             y='survived', \n",
    "             color='sex',\n",
    "             barmode='group',\n",
    "             title='Survival Rate by Gender and Passenger Class',\n",
    "             labels={'survived': 'Survival Rate', 'pclass': 'Passenger Class'})\n",
    "fig.update_layout(yaxis_tickformat='.0%')\n",
    "fig.show()"
   ]
  },
  {
   "cell_type": "markdown",
   "id": "cell-24",
   "metadata": {},
   "source": [
    "**Question:** What patterns do you observe? \n",
    "\n",
    "Your answer: ___________________________________"
   ]
  },
  {
   "cell_type": "markdown",
   "id": "cell-25",
   "metadata": {},
   "source": [
    "### Exercise 3.4: Scatter Plot - Fare vs Age"
   ]
  },
  {
   "cell_type": "code",
   "execution_count": null,
   "id": "cell-26",
   "metadata": {},
   "outputs": [],
   "source": [
    "# TODO: Create a scatter plot of Age vs Fare, colored by survival\n",
    "# Hint: Use px.scatter() with x='age', y='fare', color='survived'\n",
    "\n",
    "fig = # YOUR CODE HERE\n",
    "fig.update_layout(title='Relationship between Age and Fare',\n",
    "                  xaxis_title='Age (years)',\n",
    "                  yaxis_title='Fare (£)')\n",
    "fig.show()"
   ]
  },
  {
   "cell_type": "markdown",
   "id": "cell-27",
   "metadata": {},
   "source": [
    "---\n",
    "## Part 4: Correlation vs Causation (20 mins)\n",
    "\n",
    "### Understanding the Difference\n",
    "\n",
    "**IMPORTANT:** Correlation measures how two variables move together, but it does NOT mean one causes the other!\n",
    "\n",
    "**Correlation:** A statistical relationship between two variables\n",
    "- Example: Ice cream sales and drowning deaths are correlated\n",
    "\n",
    "**Causation:** One thing directly causes another\n",
    "- Example: Smoking causes lung cancer\n",
    "\n",
    "**Confounding Variable:** A third variable that influences both, creating a spurious correlation\n",
    "- Example: Hot weather causes both more ice cream sales AND more swimming (drownings)\n",
    "\n",
    "### Exercise 4.1: Computing Correlations"
   ]
  },
  {
   "cell_type": "code",
   "execution_count": null,
   "id": "cell-28",
   "metadata": {},
   "outputs": [],
   "source": [
    "# TODO: Calculate correlation between numerical variables\n",
    "# Hint: Use df.select_dtypes(include=[np.number]).corr()\n",
    "\n",
    "correlation_matrix = # YOUR CODE HERE\n",
    "print(\"Correlation Matrix:\")\n",
    "print(correlation_matrix)"
   ]
  },
  {
   "cell_type": "code",
   "execution_count": null,
   "id": "cell-29",
   "metadata": {},
   "outputs": [],
   "source": [
    "# TODO: Create a heatmap of correlations\n",
    "# Hint: Use px.imshow()\n",
    "\n",
    "fig = px.imshow(correlation_matrix,\n",
    "                text_auto='.2f',\n",
    "                aspect='auto',\n",
    "                title='Correlation Heatmap',\n",
    "                color_continuous_scale='RdBu_r',\n",
    "                zmin=-1, zmax=1)\n",
    "fig.show()"
   ]
  },
  {
   "cell_type": "markdown",
   "id": "cell-30",
   "metadata": {},
   "source": [
    "### Exercise 4.2: Correlation vs Causation - The Fare and Survival Relationship"
   ]
  },
  {
   "cell_type": "code",
   "execution_count": null,
   "id": "cell-31",
   "metadata": {},
   "outputs": [],
   "source": [
    "# TODO: Calculate the correlation between fare and survival\n",
    "# Hint: Use df['fare'].corr(df['survived'])\n",
    "\n",
    "fare_survival_corr = # YOUR CODE HERE\n",
    "print(f\"Correlation between Fare and Survival: {fare_survival_corr:.3f}\")"
   ]
  },
  {
   "cell_type": "markdown",
   "id": "cell-32",
   "metadata": {},
   "source": [
    "**Critical Thinking Questions:**\n",
    "\n",
    "1. Does paying a higher fare CAUSE better survival? \n",
    "   \n",
    "   Your answer: ___________________________________\n",
    "\n",
    "2. What might be the real reason for this relationship? (Think about what fare represents)\n",
    "   \n",
    "   Your answer: ___________________________________\n",
    "\n",
    "3. Can you identify a **confounding variable**?\n",
    "   \n",
    "   Your answer: ___________________________________"
   ]
  },
  {
   "cell_type": "code",
   "execution_count": null,
   "id": "cell-33",
   "metadata": {},
   "outputs": [],
   "source": [
    "# TODO: Investigate the confounding variable by examining passenger class\n",
    "# Calculate correlation between pclass and survived, and between pclass and fare\n",
    "\n",
    "pclass_survival_corr = # YOUR CODE HERE\n",
    "pclass_fare_corr = # YOUR CODE HERE\n",
    "\n",
    "print(f\"Correlation between Passenger Class and Survival: {pclass_survival_corr:.3f}\")\n",
    "print(f\"Correlation between Passenger Class and Fare: {pclass_fare_corr:.3f}\")\n",
    "print(\"\\nNote: Negative correlation for pclass means lower class numbers (1st class) correlate with higher survival\")"
   ]
  },
  {
   "cell_type": "markdown",
   "id": "cell-34",
   "metadata": {},
   "source": [
    "### Exercise 4.3: Visualizing Confounding Variables"
   ]
  },
  {
   "cell_type": "code",
   "execution_count": null,
   "id": "cell-35",
   "metadata": {},
   "outputs": [],
   "source": [
    "# Create a visualization showing how passenger class confounds the fare-survival relationship\n",
    "fig = px.scatter(df, x='fare', y='survived', color='pclass',\n",
    "                 title='Fare vs Survival: Passenger Class as Confounding Variable',\n",
    "                 labels={'pclass': 'Passenger Class'},\n",
    "                 hover_data=['sex', 'age'])\n",
    "fig.update_layout(xaxis_title='Fare (£)', yaxis_title='Survived (0=No, 1=Yes)')\n",
    "fig.show()"
   ]
  },
  {
   "cell_type": "markdown",
   "id": "cell-36",
   "metadata": {},
   "source": [
    "**Discussion:** How does this visualization help us understand that passenger class is the real factor, not fare itself?\n",
    "\n",
    "Your answer: ___________________________________"
   ]
  },
  {
   "cell_type": "markdown",
   "id": "cell-37",
   "metadata": {},
   "source": [
    "---\n",
    "## Part 5: Recognizing Poor Visualizations (10 mins)\n",
    "\n",
    "### What Makes a Bad Visualization?\n",
    "\n",
    "Common problems:\n",
    "- Too many categories (unreadable)\n",
    "- Wrong chart type for the data\n",
    "- Misleading scales or axes\n",
    "- Poor color choices\n",
    "- Missing labels or context\n",
    "\n",
    "### Exercise 5.1: Creating a Misleading Visualization\n",
    "\n",
    "Let's intentionally create a poor visualization to understand what NOT to do!"
   ]
  },
  {
   "cell_type": "code",
   "execution_count": null,
   "id": "cell-38",
   "metadata": {},
   "outputs": [],
   "source": [
    "# Poor visualization example: Pie chart with too many categories\n",
    "age_groups = pd.cut(df['age'].dropna(), bins=20)\n",
    "fig = px.pie(values=age_groups.value_counts().values, \n",
    "             names=age_groups.value_counts().index.astype(str),\n",
    "             title='Age Distribution (Poor Visualization - Too Many Slices!)')\n",
    "fig.show()"
   ]
  },
  {
   "cell_type": "markdown",
   "id": "cell-39",
   "metadata": {},
   "source": [
    "**Question:** What makes this visualization poor? List at least 3 reasons:\n",
    "\n",
    "1. ___________________________________\n",
    "2. ___________________________________\n",
    "3. ___________________________________"
   ]
  },
  {
   "cell_type": "code",
   "execution_count": null,
   "id": "cell-40",
   "metadata": {},
   "outputs": [],
   "source": [
    "# TODO: Create a BETTER version of the above visualization\n",
    "# Hint: Use a histogram instead of a pie chart\n",
    "\n",
    "# YOUR CODE HERE"
   ]
  },
  {
   "cell_type": "markdown",
   "id": "cell-41",
   "metadata": {},
   "source": [
    "---\n",
    "## Part 6: Summary & Reflection (10 mins)\n",
    "\n",
    "### Key Takeaways\n",
    "\n",
    "Today we learned:\n",
    "- Data science combines three pillars: Domänenwissen, Statistik/Mathematik, and Informatik\n",
    "- The AI hierarchy: AI → Machine Learning → Deep Learning → Generative AI/LLMs\n",
    "- The 5 V's of Big Data: Volume, Velocity, Variety, Veracity, Value\n",
    "- Data sources: Open-Source (Kaggle, WHO), privat, kommerziell\n",
    "- Different visualization types serve different purposes (bar charts, scatter plots, heatmaps)\n",
    "- **Correlation ≠ Causation!** Watch out for confounding variables\n",
    "- Good visualizations tell clear stories without misleading\n",
    "\n",
    "### Reflection Questions\n",
    "\n",
    "1. What was the most interesting insight you discovered about the Titanic data?\n",
    "\n",
    "   Your answer: ___________________________________\n",
    "\n",
    "2. Which type of visualization did you find most useful and why?\n",
    "\n",
    "   Your answer: ___________________________________\n",
    "\n",
    "3. Can you think of a real-world application where understanding correlation vs causation is critical?\n",
    "\n",
    "   Your answer: ___________________________________\n",
    "\n",
    "4. Which of the three pillars (Domain, Statistics, Computer Science) do you feel most comfortable with? Which needs more work?\n",
    "\n",
    "   Your answer: ___________________________________"
   ]
  },
  {
   "cell_type": "markdown",
   "id": "cell-42",
   "metadata": {},
   "source": [
    "---\n",
    "## Bonus Challenges (Optional)\n",
    "\n",
    "If you finish early, try these additional exercises:\n",
    "\n",
    "### Bonus 1: Box Plot for Fare by Class"
   ]
  },
  {
   "cell_type": "code",
   "execution_count": null,
   "id": "cell-43",
   "metadata": {},
   "outputs": [],
   "source": [
    "# TODO: Create a box plot showing fare distribution by passenger class\n",
    "# Hint: Use px.box()\n",
    "\n",
    "# YOUR CODE HERE"
   ]
  },
  {
   "cell_type": "markdown",
   "id": "cell-44",
   "metadata": {},
   "source": [
    "### Bonus 2: Survival Rate by Embarkation Port"
   ]
  },
  {
   "cell_type": "code",
   "execution_count": null,
   "id": "cell-45",
   "metadata": {},
   "outputs": [],
   "source": [
    "# TODO: Calculate and visualize survival rates by embarkation port\n",
    "# Hint: Group by 'embarked' and calculate mean of 'survived'\n",
    "\n",
    "# YOUR CODE HERE"
   ]
  },
  {
   "cell_type": "markdown",
   "id": "cell-46",
   "metadata": {},
   "source": [
    "### Bonus 3: Family Size Analysis\n",
    "\n",
    "This is an important feature we'll use later in the course!"
   ]
  },
  {
   "cell_type": "code",
   "execution_count": null,
   "id": "cell-47",
   "metadata": {},
   "outputs": [],
   "source": [
    "# TODO: Create a new feature 'family_size' = SibSp + Parch + 1\n",
    "# Then visualize survival rate by family size\n",
    "# Hint: Use groupby and mean, then create a line or bar chart\n",
    "\n",
    "# YOUR CODE HERE\n",
    "\n",
    "# What patterns do you notice? Do small or large families have better survival rates?"
   ]
  },
  {
   "cell_type": "markdown",
   "id": "cell-48",
   "metadata": {},
   "source": [
    "---\n",
    "## Resources for Further Learning\n",
    "\n",
    "- **Pandas Documentation:** https://pandas.pydata.org/docs/\n",
    "- **Plotly Gallery:** https://plotly.com/python/\n",
    "- **Data Visualization Best Practices:** https://www.storytellingwithdata.com/\n",
    "- **Correlation vs Causation:** https://www.tylervigen.com/spurious-correlations\n",
    "- **Kaggle Datasets:** https://www.kaggle.com/datasets\n",
    "- **WHO Open Data:** https://www.who.int/data\n",
    "\n",
    "**See you on Day 4 for Data Preparation & Feature Engineering!**"
   ]
  }
 ],
 "metadata": {
  "kernelspec": {
   "display_name": "Python 3",
   "language": "python",
   "name": "python3"
  },
  "language_info": {
   "codemirror_mode": {
    "name": "ipython",
    "version": 3
   },
   "file_extension": ".py",
   "mimetype": "text/x-python",
   "name": "python",
   "nbconvert_exporter": "python",
   "pygments_lexer": "ipython3",
   "version": "3.8.0"
  }
 },
 "nbformat": 4,
 "nbformat_minor": 5
}
